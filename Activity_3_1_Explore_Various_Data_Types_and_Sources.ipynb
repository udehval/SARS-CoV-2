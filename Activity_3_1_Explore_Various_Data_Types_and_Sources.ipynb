{
  "nbformat": 4,
  "nbformat_minor": 0,
  "metadata": {
    "colab": {
      "provenance": [],
      "private_outputs": true,
      "include_colab_link": true
    },
    "kernelspec": {
      "name": "python3",
      "display_name": "Python 3"
    },
    "language_info": {
      "name": "python"
    }
  },
  "cells": [
    {
      "cell_type": "markdown",
      "metadata": {
        "id": "view-in-github",
        "colab_type": "text"
      },
      "source": [
        "<a href=\"https://colab.research.google.com/github/udehval/SARS-CoV-2/blob/master/Activity_3_1_Explore_Various_Data_Types_and_Sources.ipynb\" target=\"_parent\"><img src=\"https://colab.research.google.com/assets/colab-badge.svg\" alt=\"Open In Colab\"/></a>"
      ]
    },
    {
      "cell_type": "markdown",
      "source": [
        "<img src=\"https://raw.githubusercontent.com/DianaMoyano1/Python_EDAs/main/Images/LogoVector.jpeg\" width=\"500\"/>"
      ],
      "metadata": {
        "id": "YFzI4Mx7BC1v"
      }
    },
    {
      "cell_type": "markdown",
      "source": [
        "# Welcome to the Excel to AI Workshop!\n",
        "\n",
        "This program is offered by the Vector Institute for professionals who wish to explore some of the concepts discussed during the theory section. No prior coding experience is required.\n",
        "\n",
        "***Never stop learning!***\n",
        "\n",
        "--------------"
      ],
      "metadata": {
        "id": "rC6sNfkTBDiy"
      }
    },
    {
      "cell_type": "markdown",
      "source": [
        "Make sure you make a copy of this notebook before running any script\n",
        "\n",
        "<img src=\"https://raw.githubusercontent.com/DianaMoyano1/Python_EDAs/main/Images/ColabSave.png\" width=\"300\"/>"
      ],
      "metadata": {
        "id": "xCOAYs1WBGba"
      }
    },
    {
      "cell_type": "markdown",
      "source": [
        "# Import from Various Data Sources"
      ],
      "metadata": {
        "id": "z_gHu6GcBNuo"
      }
    },
    {
      "cell_type": "code",
      "metadata": {
        "id": "9IGouyS6uUtf"
      },
      "source": [
        "#import pandas\n",
        "import pandas as pd"
      ],
      "execution_count": null,
      "outputs": []
    },
    {
      "cell_type": "markdown",
      "metadata": {
        "id": "T5sjj7Xb0teP"
      },
      "source": [
        "### From a local directory"
      ]
    },
    {
      "cell_type": "markdown",
      "metadata": {
        "id": "k7PHCFtHGK4I"
      },
      "source": [
        "**CSV file**\n",
        "\n",
        "[File source](https://drive.google.com/file/d/1nnQoR6Dzjb-w00i6BalyLOSeDR3zL90A/view)"
      ]
    },
    {
      "cell_type": "code",
      "source": [
        "from google.colab import files\n",
        "uploaded = files.upload()  #Upload a file from a local machine\n",
        "file_name =list(uploaded.keys())[0] #Extracts the file name\n",
        "istanbul = pd.read_csv(file_name)\n",
        "istanbul.head()"
      ],
      "metadata": {
        "id": "kbWc4hTGJP07"
      },
      "execution_count": null,
      "outputs": []
    },
    {
      "cell_type": "markdown",
      "metadata": {
        "id": "jlSmAsjBGNeA"
      },
      "source": [
        "**Excel file**\n",
        "\n",
        "[File source](https://docs.google.com/spreadsheets/d/1vzzAKsk0cjooGe9V34TPcw5_BBSbHIj7/edit?usp=sharing&ouid=115601795419436761822&rtpof=true&sd=true)"
      ]
    },
    {
      "cell_type": "code",
      "metadata": {
        "id": "ioTKqEtAGJvv"
      },
      "source": [
        "uploaded = files.upload() #upload a file from a local machine\n",
        "file_name=list(uploaded.keys())[0] #Extracts the file name that will be used when loading the file\n",
        "predictions = pd.read_excel(file_name,\n",
        "                   sheet_name=0 ) #This will extract the first sheet (number or name of tab)\n",
        "predictions.head()"
      ],
      "execution_count": null,
      "outputs": []
    },
    {
      "cell_type": "markdown",
      "metadata": {
        "id": "dh-NRI6w04En"
      },
      "source": [
        "### From a shared Google Drive File\n",
        "\n",
        "[File source](https://drive.google.com/file/d/1punxrfj0qUw0lwYJALR2_9IYQ4Gf67-Q/view?usp=sharing)"
      ]
    },
    {
      "cell_type": "code",
      "metadata": {
        "id": "pGBxVskV00XZ"
      },
      "source": [
        "source_url = 'https://drive.google.com/file/d/1punxrfj0qUw0lwYJALR2_9IYQ4Gf67-Q/view?usp=sharing' #Type: String (include '')\n",
        "formatted_url = 'https://drive.google.com/uc?id=' + source_url.split('/')[-2] # It formats the file in a readable manner\n",
        "telco = pd.read_csv(formatted_url) #read the csv file from the formatted URL\n",
        "telco.head()"
      ],
      "execution_count": null,
      "outputs": []
    },
    {
      "cell_type": "markdown",
      "metadata": {
        "id": "9GroAfMyIyLd"
      },
      "source": [
        "# Load Unstructured Data"
      ]
    },
    {
      "cell_type": "markdown",
      "source": [
        "### From most websites containing text"
      ],
      "metadata": {
        "id": "atDe8iIJ5slC"
      }
    },
    {
      "cell_type": "markdown",
      "source": [
        "News article: https://www.thestar.com/business/2022/02/11/toronto-tech-institute-tracking-long-covid-with-artificial-intelligence-social-media.html"
      ],
      "metadata": {
        "id": "PBvQ56cmYpey"
      }
    },
    {
      "cell_type": "code",
      "source": [
        "# Import packages\n",
        "from urllib.request import urlopen # Open the URL\n",
        "from bs4 import BeautifulSoup #pulls data out of HTML and XML files\n",
        "\n",
        "# Specify url of the web page\n",
        "source = urlopen('https://www.thestar.com/business/2022/02/11/toronto-tech-institute-tracking-long-covid-with-artificial-intelligence-social-media.html').read()\n",
        "\n",
        "# Generate a soup\n",
        "soup = BeautifulSoup(source,'lxml')\n",
        "\n",
        "# Extract plain text from the page\n",
        "text = ''\n",
        "for paragraph in soup.find_all('p'):\n",
        "    text = text + paragraph.text\n",
        "\n",
        "text"
      ],
      "metadata": {
        "id": "zCVS-7_6COI4"
      },
      "execution_count": null,
      "outputs": []
    },
    {
      "cell_type": "markdown",
      "metadata": {
        "id": "_NvZEYsKJUiL"
      },
      "source": [
        "### Images"
      ]
    },
    {
      "cell_type": "markdown",
      "metadata": {
        "id": "VpvRdEbhCf4p"
      },
      "source": [
        "Vector Institute logo: https://www.utoronto.ca/sites/default/files/2017-09-26-vector-logo-resized_0.jpg"
      ]
    },
    {
      "cell_type": "code",
      "metadata": {
        "id": "tFKej2CxJ2HA"
      },
      "source": [
        "import cv2 as cv\n",
        "from google.colab.patches import cv2_imshow # display images in\n",
        "from skimage import io"
      ],
      "execution_count": null,
      "outputs": []
    },
    {
      "cell_type": "code",
      "metadata": {
        "id": "Fji6ZFGaKTA5"
      },
      "source": [
        "url= 'https://www.utoronto.ca/sites/default/files/2017-09-26-vector-logo-resized_0.jpg'\n",
        "image = io.imread(url)\n",
        "image = cv.cvtColor(image, cv.COLOR_BGR2RGB) #Change from BGR format (OpenCV default) to RBG\n",
        "image = cv.resize(image, (0,0), fx=0.5, fy=0.5) # Make the image half smaller\n",
        "cv2_imshow(image)"
      ],
      "execution_count": null,
      "outputs": []
    },
    {
      "cell_type": "markdown",
      "metadata": {
        "id": "AwjTAPHyN43G"
      },
      "source": [
        "### Video"
      ]
    },
    {
      "cell_type": "markdown",
      "metadata": {
        "id": "0RHcFCn5CmMD"
      },
      "source": [
        "Intro to AI: https://www.youtube.com/watch?v=qqj9c0rmsy4\n",
        "\n",
        "Note that we only need the video ID to load the file. It is usually located in the URL, right after `watch?v=` --> In this case, `qqj9c0rmsy4`"
      ]
    },
    {
      "cell_type": "code",
      "metadata": {
        "id": "tF9M9_65KVR8"
      },
      "source": [
        "from IPython.display import YouTubeVideo #Display a Youtube clip in python\n",
        "YouTubeVideo('qqj9c0rmsy4') #Load the video"
      ],
      "execution_count": null,
      "outputs": []
    },
    {
      "cell_type": "markdown",
      "source": [
        "-------------------------\n",
        "\n",
        "This program is offered by the Vector Institute for professionals who wish to explore some of the concepts discussed during the theory section. No prior coding experience is required.\n",
        "\n",
        "***Never stop learning!***"
      ],
      "metadata": {
        "id": "YmpLcXDSBgm8"
      }
    }
  ]
}